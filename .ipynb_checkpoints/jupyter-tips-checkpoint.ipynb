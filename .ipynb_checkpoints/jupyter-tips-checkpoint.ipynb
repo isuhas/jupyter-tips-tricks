{
 "cells": [
  {
   "cell_type": "code",
   "execution_count": null,
   "metadata": {},
   "outputs": [],
   "source": [
    "# Jupyter Lab\n",
    "\n",
    "# Make sure you have jupyter lab installed\n",
    "!python -m pip install --upgrade pip\n",
    "!python -m pip install jupyter"
   ]
  },
  {
   "cell_type": "code",
   "execution_count": null,
   "metadata": {},
   "outputs": [],
   "source": [
    "# nbextensions config\n",
    "\n",
    "# First install and enable the contrib extensions for jupyter\n",
    "# We'll get to these later\n",
    "!pip install https://github.com/ipython-contrib/jupyter_contrib_nbextensions/tarball/master\n",
    "!pip install jupyter_nbextensions_configurator\n",
    "!jupyter contrib nbextension install --user\n",
    "!jupyter nbextensions_configurator enable --user"
   ]
  },
  {
   "cell_type": "code",
   "execution_count": null,
   "metadata": {},
   "outputs": [],
   "source": [
    "# Jupyter Hotkeys To Know\n",
    "\n",
    "# Start with the quick select bar\n",
    "# cmd + shift + p\n",
    "\n",
    "# Move from Edit Mode to Command Mode\n",
    "# esc\n",
    "\n",
    "# While in command mode\n",
    "# Insert cell above\n",
    "# A\n",
    "\n",
    "# While in command mode\n",
    "# Insert cell below\n",
    "# B\n",
    "\n",
    "# While in command mode\n",
    "# Delete cell\n",
    "# dd\n",
    "\n",
    "# While in command mode\n",
    "# Change cell type\n",
    "# M (Markdown)\n",
    "# Y (Code)\n",
    "\n",
    "# While in command mode\n",
    "# Switch cell to edit mode\n",
    "# Enter\n",
    "\n",
    "# While in command mode\n",
    "# Select multiple cells\n",
    "# Shift + up/down\n",
    "\n",
    "# While in edit mode\n",
    "# Execute cell\n",
    "# shift + enter\n",
    "\n",
    "# While in edit mode\n",
    "# Split cell\n",
    "# CTRL + SHIFT + -\n",
    "\n",
    "# While in edit mode\n",
    "# Auto-complete\n",
    "# tab"
   ]
  },
  {
   "cell_type": "code",
   "execution_count": null,
   "metadata": {},
   "outputs": [],
   "source": [
    "# While in edit mode\n",
    "# Documentation (how much do you want?)\n",
    "# Shift + tab\n",
    "# Shift + tab + tab\n",
    "# Shift + tab + tab + tab + tab\n",
    "\n",
    "# See documentation for a function\n",
    "# PackageName.MethodName()?\n",
    "\n",
    "# Open documentation for a function\n",
    "# PackageName.MethodName()??\n",
    "\n",
    "# Use multiple cursors\n",
    "# Hold down \"alt\"\n",
    "\n",
    "# Quick comment\n",
    "# Shift + /\n",
    "\n",
    "# Indent forward / Indent backwards\n",
    "# Cmd + [\n",
    "# Cmd + ]"
   ]
  },
  {
   "cell_type": "code",
   "execution_count": null,
   "metadata": {},
   "outputs": [],
   "source": [
    "# Ententions to enable in nbextension\n",
    "\n",
    "# Desktop Notifications\n",
    "# Notify\n",
    "\n",
    "# Hide your code like a normal text editor\n",
    "# Code folding\n",
    "\n",
    "# Essentially a progress bar for your cells\n",
    "# tqdm_notebook\n",
    "\n",
    "# Clean up Jupyter with less clutter\n",
    "# Zen mode\n",
    "\n",
    "# Auto-format your code, so you don't have to\n",
    "# A Code Prettifier\n",
    "\n",
    "# Auto-format your code to the python pep-8 style\n",
    "# Autopep-8\n",
    "\n",
    "# A separate workspace to quickly write and execute cells outside the notebook\n",
    "# Scratchpad\n",
    "\n",
    "# Make sure you have correct spelling\n",
    "# Spellchecker\n",
    "\n",
    "# Turn on line numbers in the gutter of the code cell\n",
    "# Toggle all line numbers"
   ]
  },
  {
   "cell_type": "code",
   "execution_count": null,
   "metadata": {},
   "outputs": [],
   "source": [
    "# Magic commands\n",
    "\n",
    "# List all magic commands\n",
    "# %lsmagic\n",
    "\n",
    "# Set environment variables\n",
    "# %env\n",
    "\n",
    "# Run a python file\n",
    "# %run\n",
    "\n",
    "# Pass data between notebooks\n",
    "# %store\n",
    "\n",
    "# List all variables of the global scope\n",
    "# %who\n",
    "\n",
    "# How long it takes for code to run\n",
    "# %%time\n",
    "\n",
    "# Write the contents of a cell to an external file\n",
    "# %%writefile nameoffile.py\n",
    "\n",
    "# Config plot outputs for retina display ... won't render on non-retina display\n",
    "# %config InlineBackend.figure_format = 'retina'\n",
    "\n",
    "# Show plots\n",
    "# %matplotlib inline\n",
    "\n",
    "# Show no out put ... just use a semicolon\n",
    "# methodName();\n",
    "\n",
    "# Use shell commands with !\n",
    "# ! shell method here\n",
    "\n",
    "# %prun\n",
    "# Give you line-by-line breakdown of time and memory usage in a function or script"
   ]
  },
  {
   "cell_type": "code",
   "execution_count": null,
   "metadata": {},
   "outputs": [],
   "source": [
    "# Create presentation from notebook\n",
    "# !pip install RISE\n",
    "# !jupyter-nbextension install rise --py --sys-prefix\n",
    "# !jupyter-nbextension enable rise --py --sys-prefix"
   ]
  },
  {
   "cell_type": "code",
   "execution_count": 6,
   "metadata": {},
   "outputs": [
    {
     "data": {
      "application/json": {
       "cell": {
        "!": "OSMagics",
        "HTML": "Other",
        "SVG": "Other",
        "bash": "Other",
        "capture": "ExecutionMagics",
        "debug": "ExecutionMagics",
        "file": "Other",
        "html": "DisplayMagics",
        "javascript": "DisplayMagics",
        "js": "DisplayMagics",
        "latex": "DisplayMagics",
        "perl": "Other",
        "prun": "ExecutionMagics",
        "pypy": "Other",
        "python": "Other",
        "python2": "Other",
        "python3": "Other",
        "ruby": "Other",
        "script": "ScriptMagics",
        "sh": "Other",
        "svg": "DisplayMagics",
        "sx": "OSMagics",
        "system": "OSMagics",
        "time": "ExecutionMagics",
        "timeit": "ExecutionMagics",
        "writefile": "OSMagics"
       },
       "line": {
        "alias": "OSMagics",
        "alias_magic": "BasicMagics",
        "autocall": "AutoMagics",
        "automagic": "AutoMagics",
        "autosave": "KernelMagics",
        "bookmark": "OSMagics",
        "cat": "Other",
        "cd": "OSMagics",
        "clear": "KernelMagics",
        "colors": "BasicMagics",
        "config": "ConfigMagics",
        "connect_info": "KernelMagics",
        "cp": "Other",
        "debug": "ExecutionMagics",
        "dhist": "OSMagics",
        "dirs": "OSMagics",
        "doctest_mode": "BasicMagics",
        "ed": "Other",
        "edit": "KernelMagics",
        "env": "OSMagics",
        "gui": "BasicMagics",
        "hist": "Other",
        "history": "HistoryMagics",
        "killbgscripts": "ScriptMagics",
        "ldir": "Other",
        "less": "KernelMagics",
        "lf": "Other",
        "lk": "Other",
        "ll": "Other",
        "load": "CodeMagics",
        "load_ext": "ExtensionMagics",
        "loadpy": "CodeMagics",
        "logoff": "LoggingMagics",
        "logon": "LoggingMagics",
        "logstart": "LoggingMagics",
        "logstate": "LoggingMagics",
        "logstop": "LoggingMagics",
        "ls": "Other",
        "lsmagic": "BasicMagics",
        "lx": "Other",
        "macro": "ExecutionMagics",
        "magic": "BasicMagics",
        "man": "KernelMagics",
        "matplotlib": "PylabMagics",
        "mkdir": "Other",
        "more": "KernelMagics",
        "mv": "Other",
        "notebook": "BasicMagics",
        "page": "BasicMagics",
        "pastebin": "CodeMagics",
        "pdb": "ExecutionMagics",
        "pdef": "NamespaceMagics",
        "pdoc": "NamespaceMagics",
        "pfile": "NamespaceMagics",
        "pinfo": "NamespaceMagics",
        "pinfo2": "NamespaceMagics",
        "popd": "OSMagics",
        "pprint": "BasicMagics",
        "precision": "BasicMagics",
        "profile": "BasicMagics",
        "prun": "ExecutionMagics",
        "psearch": "NamespaceMagics",
        "psource": "NamespaceMagics",
        "pushd": "OSMagics",
        "pwd": "OSMagics",
        "pycat": "OSMagics",
        "pylab": "PylabMagics",
        "qtconsole": "KernelMagics",
        "quickref": "BasicMagics",
        "recall": "HistoryMagics",
        "rehashx": "OSMagics",
        "reload_ext": "ExtensionMagics",
        "rep": "Other",
        "rerun": "HistoryMagics",
        "reset": "NamespaceMagics",
        "reset_selective": "NamespaceMagics",
        "rm": "Other",
        "rmdir": "Other",
        "run": "ExecutionMagics",
        "save": "CodeMagics",
        "sc": "OSMagics",
        "set_env": "OSMagics",
        "store": "StoreMagics",
        "sx": "OSMagics",
        "system": "OSMagics",
        "tb": "ExecutionMagics",
        "time": "ExecutionMagics",
        "timeit": "ExecutionMagics",
        "unalias": "OSMagics",
        "unload_ext": "ExtensionMagics",
        "who": "NamespaceMagics",
        "who_ls": "NamespaceMagics",
        "whos": "NamespaceMagics",
        "xdel": "NamespaceMagics",
        "xmode": "BasicMagics"
       }
      },
      "text/plain": [
       "Available line magics:\n",
       "%alias  %alias_magic  %autocall  %automagic  %autosave  %bookmark  %cat  %cd  %clear  %colors  %config  %connect_info  %cp  %debug  %dhist  %dirs  %doctest_mode  %ed  %edit  %env  %gui  %hist  %history  %killbgscripts  %ldir  %less  %lf  %lk  %ll  %load  %load_ext  %loadpy  %logoff  %logon  %logstart  %logstate  %logstop  %ls  %lsmagic  %lx  %macro  %magic  %man  %matplotlib  %mkdir  %more  %mv  %notebook  %page  %pastebin  %pdb  %pdef  %pdoc  %pfile  %pinfo  %pinfo2  %popd  %pprint  %precision  %profile  %prun  %psearch  %psource  %pushd  %pwd  %pycat  %pylab  %qtconsole  %quickref  %recall  %rehashx  %reload_ext  %rep  %rerun  %reset  %reset_selective  %rm  %rmdir  %run  %save  %sc  %set_env  %store  %sx  %system  %tb  %time  %timeit  %unalias  %unload_ext  %who  %who_ls  %whos  %xdel  %xmode\n",
       "\n",
       "Available cell magics:\n",
       "%%!  %%HTML  %%SVG  %%bash  %%capture  %%debug  %%file  %%html  %%javascript  %%js  %%latex  %%perl  %%prun  %%pypy  %%python  %%python2  %%python3  %%ruby  %%script  %%sh  %%svg  %%sx  %%system  %%time  %%timeit  %%writefile\n",
       "\n",
       "Automagic is ON, % prefix IS NOT needed for line magics."
      ]
     },
     "execution_count": 6,
     "metadata": {},
     "output_type": "execute_result"
    }
   ],
   "source": [
    "# List the magic commands\n",
    "\n",
    "%lsmagic"
   ]
  },
  {
   "cell_type": "code",
   "execution_count": 51,
   "metadata": {},
   "outputs": [
    {
     "name": "stdout",
     "output_type": "stream",
     "text": [
      "Writing test_bin.py\n"
     ]
    }
   ],
   "source": [
    "# Demo for %%time\n",
    "%%time\n",
    "from random import seed\n",
    "from random import random\n",
    "\n",
    "# Create a list\n",
    "random_walk = list()\n",
    "\n",
    "# Set the first value\n",
    "random_walk.append(-1 if random() < 0.5 else 1)\n",
    "\n",
    "# Create a random walk\n",
    "for i in range(1, 10000000):\n",
    "    movement = -1 if random() < 0.5 else 1\n",
    "    value = random_walk[i-1] + movement\n",
    "    random_walk.append(value)"
   ]
  },
  {
   "cell_type": "code",
   "execution_count": 45,
   "metadata": {},
   "outputs": [
    {
     "name": "stdout",
     "output_type": "stream",
     "text": [
      "CPU times: user 111 µs, sys: 1 µs, total: 112 µs\n",
      "Wall time: 120 µs\n"
     ]
    }
   ],
   "source": [
    "# Demo for %%time\n",
    "%time x = np.linspace(1, 100, 100)"
   ]
  },
  {
   "cell_type": "code",
   "execution_count": 46,
   "metadata": {},
   "outputs": [
    {
     "name": "stdout",
     "output_type": "stream",
     "text": [
      "CPU times: user 2 s, sys: 30.5 ms, total: 2.03 s\n",
      "Wall time: 3.7 s\n"
     ]
    }
   ],
   "source": [
    "# Demo for %%time\n",
    "%%time\n",
    "import math\n",
    "sum = 0\n",
    "for i in range(2000):\n",
    "    for j in range(2000):\n",
    "        sum += i * math.exp(random()) * j"
   ]
  },
  {
   "cell_type": "code",
   "execution_count": 57,
   "metadata": {},
   "outputs": [
    {
     "name": "stdout",
     "output_type": "stream",
     "text": [
      " "
     ]
    }
   ],
   "source": [
    "# Demo for %%prun\n",
    "%%prun\n",
    "# Create a list\n",
    "random_walk = list()\n",
    "\n",
    "# Set the first value\n",
    "random_walk.append(-1 if random() < 0.5 else 1)\n",
    "\n",
    "# Create a random walk\n",
    "for i in range(1, 10000000):\n",
    "    movement = -1 if random() < 0.5 else 1\n",
    "    value = random_walk[i-1] + movement\n",
    "    random_walk.append(value)"
   ]
  },
  {
   "cell_type": "code",
   "execution_count": 59,
   "metadata": {},
   "outputs": [],
   "source": [
    "# Demo for %%psearch\n",
    "%psearch i*"
   ]
  }
 ],
 "metadata": {
  "kernelspec": {
   "display_name": "Python 2",
   "language": "python",
   "name": "python2"
  },
  "language_info": {
   "codemirror_mode": {
    "name": "ipython",
    "version": 2
   },
   "file_extension": ".py",
   "mimetype": "text/x-python",
   "name": "python",
   "nbconvert_exporter": "python",
   "pygments_lexer": "ipython2",
   "version": "2.7.12"
  }
 },
 "nbformat": 4,
 "nbformat_minor": 2
}
